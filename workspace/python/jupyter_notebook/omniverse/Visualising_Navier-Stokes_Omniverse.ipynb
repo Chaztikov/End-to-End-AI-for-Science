{
 "cells": [
  {
   "cell_type": "markdown",
   "metadata": {},
   "source": [
    "# Visualising Weather prediction on Omniverse - Navier-Stokes  "
   ]
  },
  {
   "cell_type": "markdown",
   "metadata": {},
   "source": [
    "This notebook will give you a start in building your own extensions in Omniverse and visualising the results obtained from the Modulus notebooks."
   ]
  },
  {
   "cell_type": "markdown",
   "metadata": {},
   "source": [
    "#### Contents of the Notebook\n",
    "\n",
    "- [Introduction to Extensions on Omniverse](#Introduction-to-Extensions-on-Omniverse)\n",
    "- [Building an extension to visualise Navier-Stokes results](#Building-an-extension-to-visualise-weather-prediction-using-Navier-Stokes)\n",
    "    - [Building the Digital Twin](#Building-the-Digital-Twin)\n",
    "    - [Creating an extension in Omniverse](#Creating-an-extension-in-Omniverse)\n",
    "        \n",
    "#### Learning Outcomes\n",
    "- How to get started in Omniverse\n",
    "- Visualising our data using custom-built extensions."
   ]
  },
  {
   "cell_type": "markdown",
   "metadata": {},
   "source": [
    "## Introduction to Extensions on Omniverse\n",
    "\n",
    "Extensions in Omniverse are additional software components that can be added to the platform to provide additional functionality and capabilities. These extensions are designed to enhance the user experience and provide users with specialized tools and workflows that are tailored to specific industries or use cases.\n",
    "\n",
    "Some common types of extensions available for Omniverse include:\n",
    "\n",
    "- **Asset management tools**: These extensions provide users with the ability to manage large and complex projects more efficiently, including importing and exporting assets, organizing assets, and tracking changes.\n",
    "\n",
    "- **Collaboration tools**: These extensions allow users to work collaboratively with other team members in real-time, including sharing and reviewing 3D content, and communicating with team members.\n",
    "\n",
    "- **Real-time editing capabilities**: These extensions enable users to make real-time edits to 3D content, including making changes to materials, textures, and lighting.\n",
    "\n",
    "- **Simulation tools**: These extensions provide users with simulation capabilities, including physics-based simulations and AI-driven simulations.\n",
    "\n",
    "Overall, extensions in Omniverse provide users with a wide range of tools and capabilities that enable them to create, simulate, and collaborate on 3D content with greater efficiency and flexibility. These extensions can help users unlock the full potential of the platform and create more compelling and engaging 3D content. Let us now get started by building a simple extension in Omniverse."
   ]
  },
  {
   "cell_type": "markdown",
   "metadata": {},
   "source": [
    "## Building an extension to visualise weather prediction using Navier-Stokes\n",
    "\n",
    "Let us now follow a step-by-step approach to building an extension on Omniverse and use the results obtained from Navier-Stokes to visualise a Digital Twin of Earth.\n",
    "\n",
    "These steps assume you have been able to connect to the Omniverse on your browser and have the output for visualisation.\n",
    "\n",
    "If you have run the Modulus notebooks, then you will have the results stored at appropriate folders for us to visualise, if it is already not run, you can run the below hidden cell to download and use the outputs."
   ]
  },
  {
   "cell_type": "code",
   "execution_count": null,
   "metadata": {
    "jupyter": {
     "source_hidden": true
    },
    "tags": []
   },
   "outputs": [],
   "source": [
    "# Download Navier-stokes assets to the appropriate folder\n",
    "import gdown\n",
    "import os\n",
    "\n",
    "## Navier-Stokes Dataset \n",
    "url = 'https://drive.google.com/uc?id=1htZG2b6oF_kA8kqihIeUY1fZZyBs-4Ty&export=download'\n",
    "output = str(os.path.realpath(os.getcwd())+ '/../navier_stokes/outputs/navier_stokes/dataset.zip')\n",
    "gdown.cached_download(url, output, quiet=False,proxy=None,postprocess=gdown.extractall)\n",
    "os.remove(output)"
   ]
  },
  {
   "cell_type": "markdown",
   "metadata": {},
   "source": [
    "### Building the Digital Twin \n",
    "\n",
    "We will first create a Digital Twin of Earth as our base scene, on top of which we will add our extension to Visualise the outputs.\n",
    "\n",
    "#### 1. Creating a new empty file for us to create a Digital Twin\n",
    "\n",
    "Navigate to `File->New` to create a new file for us to work on. \n",
    "\n",
    "<center><img src=\"images/scene1.png\" alt=\"Drawing\" style=\"width:1000px\" /></center>\n",
    "\n",
    "#### 2. Adding a sphere mesh\n",
    "\n",
    "Click on `Create->Mesh->Sphere` to create the sphere mesh. The sphere will be created at the origin. You can press the keyboard shortcut `F` to focus on the sphere mesh. This sphere mesh will be the base of our Digital Earth. We can now rename this to `Earth` so we can identify this layer.\n",
    "\n",
    "<center><img src=\"images/scene2.png\" alt=\"Drawing\" style=\"width:1000px\" /></center>\n",
    "\n",
    "#### 3. Adding material to the sphere.\n",
    "\n",
    "You can now select the sphere either by left-clicking on it or by selecting it from the Stage Window on the right-hand side. You can then right-click on the sphere to add material by navigating to `Create->Material->OmniPBR`, creating a Material for our sphere where we can add Textures on top of it. Rename the Material to `Surface`. You can notice the properties in the Right-side bottom properties panel. \n",
    "\n",
    "<center><img src=\"images/scene3.png\" alt=\"Drawing\" style=\"width:1000px\" /></center>\n",
    "\n",
    "#### 4. Adding the Earth Texture as an Albedo map.\n",
    "\n",
    "The Earth texture is given to you in the following folder `/workspace/python/source_code/extension/assets/earth_colored_august.png`. You can now select the `Surface` in the Stage Window and scroll down to view the properties of the material, and go into `Albedo map`. On the right side, you have a small folder icon. You can click on it and navigate to the above location to find and add this as a texture. You should select the texture for it to be applied as an Albedo map. \n",
    "\n",
    "<center><img src=\"images/scene3_1.png\" alt=\"Drawing\" style=\"width:400px\" /></center>\n",
    "\n",
    "<center><img src=\"images/scene4.png\" alt=\"Drawing\" style=\"width:1000px\" /></center>\n",
    "\n",
    "#### 5. Adjusting the roughness value. \n",
    "\n",
    "Let us now adjust the Roughness value present in the Reflectivity section to give a slightly diffused look to our surface. We set it to a value of $0.9$ \n",
    "\n",
    "<center><img src=\"images/scene5.png\" alt=\"Drawing\" style=\"width:1000px\" /></center>\n",
    "\n",
    "A small clip of how adjusting the value affects the output is given below. "
   ]
  },
  {
   "cell_type": "code",
   "execution_count": 1,
   "metadata": {},
   "outputs": [
    {
     "data": {
      "text/html": [
       "<video src=\"images/scene5_1.webm\" controls loop autoplay  width=\"1200\"  height=\"600\">\n",
       "      Your browser does not support the <code>video</code> element.\n",
       "    </video>"
      ],
      "text/plain": [
       "<IPython.core.display.Video object>"
      ]
     },
     "execution_count": 1,
     "metadata": {},
     "output_type": "execute_result"
    }
   ],
   "source": [
    "from IPython.display import Video\n",
    "Video(\"images/scene5_1.webm\",width=1200, height=600,html_attributes='controls loop autoplay')"
   ]
  },
  {
   "cell_type": "markdown",
   "metadata": {},
   "source": [
    "#### 6. Adding Clouds to our Digital Twin\n",
    "\n",
    "We will now replicate the steps performed above to create a sphere that is slightly larger than the Surface to Create clouds for our Earth. We will set the scale to be `(1.01,1.01,1.01)` in all three axes."
   ]
  },
  {
   "cell_type": "code",
   "execution_count": 2,
   "metadata": {},
   "outputs": [
    {
     "data": {
      "text/html": [
       "<video src=\"images/scene6_1.webm\" controls loop autoplay  width=\"1200\"  height=\"600\">\n",
       "      Your browser does not support the <code>video</code> element.\n",
       "    </video>"
      ],
      "text/plain": [
       "<IPython.core.display.Video object>"
      ]
     },
     "execution_count": 2,
     "metadata": {},
     "output_type": "execute_result"
    }
   ],
   "source": [
    "from IPython.display import Video\n",
    "Video(\"images/scene6_1.webm\",width=1200, height=600,html_attributes='controls loop autoplay')"
   ]
  },
  {
   "cell_type": "markdown",
   "metadata": {},
   "source": [
    "#### 7. Add the cloud material as we did in Step 3 and rename the material to Cloud. \n",
    "\n",
    "<center><img src=\"images/scene3.png\" alt=\"Drawing\" style=\"width:1000px\" /></center>\n",
    "\n",
    "#### 8. Enable Fractional Cutout Opacity in Render Settings. \n",
    "\n",
    "If the images you’re using in your material have a range of transparency, you’ll want to enable Fractional Cutout Opacity in `Render Settings->Real-Time->Translucency`\n",
    "\n",
    "<center><img src=\"images/scene8.png\" alt=\"Drawing\" style=\"width:1000px\" /></center>\n",
    "\n",
    "#### 9. Adding the cloud texture to the material.\n",
    "\n",
    "We can again follow a similar step as discussed in Step 5 to add our Cloud texture, but this time instead of adding it as an Albedo map, we will now use this to control the Opacity and thus add it as an Opacity map. The cloud texture is given to you in the following folder `/workspace/python/source_code/extension/assets/clouds.png` \n",
    "\n",
    "Once you have set the correct Opacity texture, toggle the `Enable Opacity` and `Enable Opacity Texture` to enable opacity and this texture.\n",
    "\n",
    "<center><img src=\"images/scene10.png\" alt=\"Drawing\" style=\"width:1000px\" /></center>\n",
    "\n",
    "#### 10. Creating an Xform and adding both our meshes to it. \n",
    "\n",
    "Currently, both our `Earth` and `Cloud` meshes are separate, and one can move with respect to another when rotated, but we need them to have a common transform which will help in building animations and keep the system as a whole. This can be done by Creating a new Xform and adding both meshes to it. It is displayed in the clip below. To rotate the Globe manually, as displayed below, you can left-click on the parameter you want to modify and moving your mouse will affect the value accordingly.\n",
    "\n",
    "If you are unable to follow or had issues, you can alternatively, you the file `Digital_Twin.usd` present at `/workspace/python/source_code/extension/`\n",
    "\n",
    "Once this is done, kindly save your file so you can reopen it if needed."
   ]
  },
  {
   "cell_type": "code",
   "execution_count": 3,
   "metadata": {},
   "outputs": [
    {
     "data": {
      "text/html": [
       "<video src=\"images/scene11_1.webm\" controls loop autoplay  width=\"1200\"  height=\"600\">\n",
       "      Your browser does not support the <code>video</code> element.\n",
       "    </video>"
      ],
      "text/plain": [
       "<IPython.core.display.Video object>"
      ]
     },
     "execution_count": 3,
     "metadata": {},
     "output_type": "execute_result"
    }
   ],
   "source": [
    "Video(\"images/scene11_1.webm\",width=1200, height=600,html_attributes='controls loop autoplay')"
   ]
  },
  {
   "cell_type": "markdown",
   "metadata": {},
   "source": [
    "### Creating an extension in Omniverse\n",
    "\n",
    "#### 1. Opening the Extensions tool\n",
    "\n",
    "You can click `Window->Extensions` to open the Extension window.\n",
    "\n",
    "<center><img src=\"images/ext1.png\" alt=\"Drawing\" style=\"width:1000px\" /></center>\n",
    "\n",
    "#### 2. Create a New Extension Project Template and set the Extension location. \n",
    "\n",
    "You can click on the `+` on the left top of the Extension window to create a new extension from a template. Select the `New Extension Project Template`. When asked for the location, please provide the location as `/workspace/python/source_code/extension`. While you can store it in any other location, choosing this specific location allows us to modify the extension from Jupyter Lab easily.\n",
    "\n",
    "<center><img src=\"images/ext2.png\" alt=\"Drawing\" style=\"width:1000px\" /></center>\n",
    "\n",
    "#### 3. Name the Extension Project\n",
    "\n",
    "Set the Extension Project to be `omniverse-project-navier-stokes`. Feel free to modify this value if needed, but kindly note if you modify, then you will have to manually open the file when modifying the extension.\n",
    "\n",
    "<center><img src=\"images/ext3.png\" alt=\"Drawing\" style=\"width:1000px\" /></center>\n",
    "\n",
    "#### 4. Choose Extension Name\n",
    "\n",
    "Set the Extension name to `omniverse.extension.navierstokes`. Feel free to modify this value if needed, but kindly note if you modify, then you will have to manually open the file when modifying the extension. \n",
    "\n",
    "<center><img src=\"images/ext4.png\" alt=\"Drawing\" style=\"width:1000px\" /></center>\n",
    "\n",
    "#### 5. Congratulations, you have created your first extension in Omniverse.\n",
    "\n",
    "<center><img src=\"images/ext6.png\" alt=\"Drawing\" style=\"width:1000px\" /></center>\n",
    "\n",
    "#### 6. Modifying the extension. \n",
    "\n",
    "Any changes made to the extension would be autoloaded, and hence we can go ahead and build our extension. Open the file [extension.py](../../source_code/extension/omniverse-project-navier-stokes2/exts/omniverse.extension.navierstokes/omniverse/extension/navierstokes/extension.py) if you have used the same location, extension project name and extension name, you can use the above link, if you had used a different name, you can find the extension.py at the location `<extension_Location#2>/<project_name#3>/exts/<extension_name#4>/<extension_name[0]#4>/<extension[1]#4>/<extension[2]#4>/extension.py` where #x mean the value set a Step x from the above notebook. \n",
    "\n",
    "#### 7. Saving the USD file. \n",
    "\n",
    "Let us now save the progress, as we will be using this as the base for our FourCastNet visualisation as well. You can save by selecting `File->Save` and save it in the same folder as our extension (`/workspace/python/source_code/extension`). This will allow us to have all our files stored in a single folder for easy retrieval and storage.\n",
    "\n",
    "#### 8. Taking a glance at our extension file. \n",
    "\n",
    "With this, let us now start taking a looking at the [`extension.py`](../../source_code/extension/omniverse-project-navier-stokes/exts/omniverse.extension.navierstokes/omniverse/extension/navierstokes/extension.py) file "
   ]
  },
  {
   "cell_type": "markdown",
   "metadata": {},
   "source": [
    "The extension file would be as follows: \n",
    "\n",
    "```python\n",
    "import omni.ext\n",
    "import omni.ui as ui\n",
    "\n",
    "\n",
    "# Functions and vars are available to other extension as usual in python: `example.python_ext.some_public_function(x)`\n",
    "def some_public_function(x: int):\n",
    "    print(\"[omniverse.extension.navierstokes] some_public_function was called with x: \", x)\n",
    "    return x ** x\n",
    "\n",
    "\n",
    "# Any class derived from `omni.ext.IExt` in top level module (defined in `python.modules` of `extension.toml`) will be\n",
    "# instantiated when extension gets enabled and `on_startup(ext_id)` will be called. Later when extension gets disabled\n",
    "# on_shutdown() is called.\n",
    "class OmniverseExtensionNavierstokesExtension(omni.ext.IExt):\n",
    "    # ext_id is current extension id. It can be used with extension manager to query additional information, like where\n",
    "    # this extension is located on filesystem.\n",
    "    def on_startup(self, ext_id):\n",
    "        print(\"[omniverse.extension.navierstokes] omniverse extension navierstokes startup\")\n",
    "\n",
    "        self._count = 0\n",
    "\n",
    "        self._window = ui.Window(\"My Window\", width=300, height=300)\n",
    "        with self._window.frame:\n",
    "            with ui.VStack():\n",
    "                label = ui.Label(\"\")\n",
    "\n",
    "\n",
    "                def on_click():\n",
    "                    self._count += 1\n",
    "                    label.text = f\"count: {self._count}\"\n",
    "\n",
    "                def on_reset():\n",
    "                    self._count = 0\n",
    "                    label.text = \"empty\"\n",
    "\n",
    "                on_reset()\n",
    "\n",
    "                with ui.HStack():\n",
    "                    ui.Button(\"Add\", clicked_fn=on_click)\n",
    "                    ui.Button(\"Reset\", clicked_fn=on_reset)\n",
    "\n",
    "    def on_shutdown(self):\n",
    "        print(\"[omniverse.extension.navierstokes] omniverse extension navierstokes shutdown\")\n",
    "\n",
    "```"
   ]
  },
  {
   "cell_type": "markdown",
   "metadata": {},
   "source": [
    "#### 9. Convert data from numpy arrays to image textures\n",
    "\n",
    "For our extension, let us have an intermediate step of creating images from numpy arrays. Since we have predicted ten steps, let us now visualise the u-component (the eastward component of the wind) on our Digital twin of Earth. Let us convert this to an image so it will be easier for us to apply a texture on the Digital Twin, and this can be done with `matplotlib` library. Run the below cell to create images and store them in the assets folder for us to use."
   ]
  },
  {
   "cell_type": "code",
   "execution_count": null,
   "metadata": {},
   "outputs": [],
   "source": [
    "# Converting the .npz file to images and storing them in the assets folder\n",
    "import matplotlib.pyplot as plt\n",
    "from matplotlib import cm\n",
    "import numpy as np\n",
    "import os\n",
    "\n",
    "output_dir = \"../navier_stokes/outputs/navier_stokes/inferencers/time_slice_000\"\n",
    "for i in range(10):\n",
    "    # Load the numpy file \n",
    "    data = np.load(output_dir + str(i) +\".npz\", allow_pickle=True)\n",
    "    data = np.atleast_1d(data.f.arr_0)[0]\n",
    "    x,y,u,v,p = data['x'] , data['y'] , data['u'] , data['v'] , data['p']\n",
    "    u_r = np.reshape(u, (720, 1440))\n",
    "    v_r = np.reshape(v, (720, 1440))\n",
    "    p_r = np.reshape(p, (720, 1440))\n",
    "    plt.imshow(u_r,cmap='gray')\n",
    "    plt.axis('off')\n",
    "    # Save as image\n",
    "    store_loc = \"/../../source_code/extension/assets/navier_stokes_output/\"\n",
    "    if not os.path.exists(os.getcwd()+store_loc):\n",
    "        os.makedirs(os.getcwd()+store_loc)\n",
    "    plt.savefig(os.getcwd()+store_loc+str(i)+'.jpg',bbox_inches='tight', pad_inches=0,dpi=600)\n",
    "plt.close()"
   ]
  },
  {
   "cell_type": "markdown",
   "metadata": {},
   "source": [
    "#### 10. Applying the texture as a time-dependent function and animating our Digital Twin"
   ]
  },
  {
   "cell_type": "markdown",
   "metadata": {},
   "source": [
    "We will use the code below to run the visualisation for Navier-Stokes on our Earth. "
   ]
  },
  {
   "cell_type": "markdown",
   "metadata": {},
   "source": [
    "```python\n",
    "# Import necessary libraries\n",
    "import omni.ext\n",
    "import omni.ui as ui\n",
    "from pxr import Usd, UsdShade, Sdf\n",
    "import numpy as np\n",
    "import os \n",
    "\n",
    "# Any class derived from `omni.ext.IExt` in top level module (defined in `python.modules` of `extension.toml`) will be\n",
    "# instantiated when extension gets enabled and `on_startup(ext_id)` will be called. Later when extension gets disabled\n",
    "# on_shutdown() is called.\n",
    "class OmniverseExtensionNavierstokesExtension(omni.ext.IExt):\n",
    "    # ext_id is current extension id. It can be used with extension manager to query additional information, like where\n",
    "    # this extension is located on filesystem.\n",
    "    def on_startup(self, ext_id):\n",
    "        print(\"[omniverse.extension.navierstokes] omniverse extension navierstokes startup\")\n",
    "        \n",
    "        # Get shader input for opacity map\n",
    "        stage = omni.usd.get_context().get_stage()\n",
    "        shader = UsdShade.Shader.Get(stage,\"/World/Looks/Clouds/Shader\")\n",
    "        texture = shader.GetInput(\"opacity_texture\")\n",
    "\n",
    "        # Get and store image paths \n",
    "        files=[]\n",
    "        for i in range(10):\n",
    "            files.append(os.getcwd()+'/../extension/assets/navier_stokes_output/'+str(i)+'.jpg')\n",
    "        \n",
    "        # Assign images every 5 timesteps\n",
    "        texture.GetAttr().Clear()\n",
    "        for i in range(10):\n",
    "            texture.Set(Sdf.AssetPath(files[i]),Usd.TimeCode(5*i))\n",
    "                        \n",
    "        # Trim Timeline and set upto 50 timesteps\n",
    "        stage.SetStartTimeCode(0)\n",
    "        stage.SetEndTimeCode(50)\n",
    "        \n",
    "        \n",
    "    def on_shutdown(self):\n",
    "        print(\"[omniverse.extension.navierstokes] omniverse extension navierstokes shutdown\")\n",
    "```"
   ]
  },
  {
   "cell_type": "markdown",
   "metadata": {},
   "source": [
    "#### 11. Setting \"Opacity Map Color Space\" to `auto`\n",
    "\n",
    "We can now set the `Opacity Map Color Space` to `auto` for the application to auto-detect the color space of our textures and apply them on top of the Digital Twin. \n",
    "\n",
    "<center><img src=\"images/ext10.png\" alt=\"Drawing\" style=\"width:1000px\" /></center>\n",
    "\n",
    "#### 12. Playing the animation\n",
    "\n",
    "You can play the animation by clicking on the `Play` button present on the left side of the taskbar. "
   ]
  },
  {
   "cell_type": "code",
   "execution_count": 4,
   "metadata": {},
   "outputs": [
    {
     "data": {
      "text/html": [
       "<video src=\"images/ext11.webm\" controls loop autoplay  width=\"1200\"  height=\"600\">\n",
       "      Your browser does not support the <code>video</code> element.\n",
       "    </video>"
      ],
      "text/plain": [
       "<IPython.core.display.Video object>"
      ]
     },
     "execution_count": 4,
     "metadata": {},
     "output_type": "execute_result"
    }
   ],
   "source": [
    "Video(\"images/ext11.webm\",width=1200, height=600,html_attributes='controls loop autoplay')"
   ]
  },
  {
   "cell_type": "markdown",
   "metadata": {},
   "source": [
    "The first time we ran it, we noticed it takes a bit of time to load all the textures, after which the animations feel smoother once loaded. Since we have only 10 textures this time, we can find it to loop around it and create slightly discontinuous outputs. This can be avoided by using a larger set of output. We will see such a case in our FourCastNet example. \n",
    "\n",
    "We will be modifying this extension to run our FourCastNet results."
   ]
  },
  {
   "cell_type": "markdown",
   "metadata": {},
   "source": [
    "--- \n",
    "\n",
    "Don't forget to check out additional [Open Hackathons Resources](https://www.openhackathons.org/s/technical-resources) and join our [OpenACC and Hackathons Slack Channel](https://www.openacc.org/community#slack) to share your experience and get more help from the community.\n",
    "\n",
    "---\n",
    "\n",
    "# Licensing\n",
    "\n",
    "Copyright © 2023 OpenACC-Standard.org.  This material is released by OpenACC-Standard.org, in collaboration with NVIDIA Corporation, under the Creative Commons Attribution 4.0 International (CC BY 4.0). These materials may include references to hardware and software developed by other entities; all applicable licensing and copyrights apply.\n"
   ]
  }
 ],
 "metadata": {
  "kernelspec": {
   "display_name": "Python 3 (ipykernel)",
   "language": "python",
   "name": "python3"
  },
  "language_info": {
   "codemirror_mode": {
    "name": "ipython",
    "version": 3
   },
   "file_extension": ".py",
   "mimetype": "text/x-python",
   "name": "python",
   "nbconvert_exporter": "python",
   "pygments_lexer": "ipython3",
   "version": "3.10.6"
  }
 },
 "nbformat": 4,
 "nbformat_minor": 4
}
